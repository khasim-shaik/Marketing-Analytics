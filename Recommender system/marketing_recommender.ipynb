{
 "cells": [
  {
   "cell_type": "code",
   "execution_count": 1,
   "metadata": {},
   "outputs": [],
   "source": [
    "import pandas as  pd\n",
    "import numpy as np"
   ]
  },
  {
   "cell_type": "code",
   "execution_count": 2,
   "metadata": {},
   "outputs": [],
   "source": [
    "ups=pd.read_csv('https://s3.amazonaws.com/for-large-files/markting/m.csv')"
   ]
  },
  {
   "cell_type": "code",
   "execution_count": 8,
   "metadata": {},
   "outputs": [],
   "source": [
    "them=ups[\"cust_id\"][3534:3554]"
   ]
  },
  {
   "cell_type": "code",
   "execution_count": 9,
   "metadata": {},
   "outputs": [
    {
     "data": {
      "text/html": [
       "<div>\n",
       "<style scoped>\n",
       "    .dataframe tbody tr th:only-of-type {\n",
       "        vertical-align: middle;\n",
       "    }\n",
       "\n",
       "    .dataframe tbody tr th {\n",
       "        vertical-align: top;\n",
       "    }\n",
       "\n",
       "    .dataframe thead th {\n",
       "        text-align: right;\n",
       "    }\n",
       "</style>\n",
       "<table border=\"1\" class=\"dataframe\">\n",
       "  <thead>\n",
       "    <tr style=\"text-align: right;\">\n",
       "      <th></th>\n",
       "      <th>cust_id</th>\n",
       "      <th>145519008</th>\n",
       "      <th>145519009</th>\n",
       "      <th>145519010</th>\n",
       "      <th>145519011</th>\n",
       "      <th>145519012</th>\n",
       "      <th>148066012</th>\n",
       "      <th>152576008</th>\n",
       "      <th>152576009</th>\n",
       "      <th>152576010</th>\n",
       "      <th>...</th>\n",
       "      <th>999996335</th>\n",
       "      <th>999996618</th>\n",
       "      <th>999997260</th>\n",
       "      <th>999997286</th>\n",
       "      <th>999997419</th>\n",
       "      <th>999997533</th>\n",
       "      <th>999998779</th>\n",
       "      <th>999999154</th>\n",
       "      <th>999999155</th>\n",
       "      <th>999999193</th>\n",
       "    </tr>\n",
       "  </thead>\n",
       "  <tbody>\n",
       "    <tr>\n",
       "      <th>0</th>\n",
       "      <td>29568</td>\n",
       "      <td>0.0</td>\n",
       "      <td>0.0</td>\n",
       "      <td>0.0</td>\n",
       "      <td>0.0</td>\n",
       "      <td>0.0</td>\n",
       "      <td>0.0</td>\n",
       "      <td>0.0</td>\n",
       "      <td>0.0</td>\n",
       "      <td>0.0</td>\n",
       "      <td>...</td>\n",
       "      <td>0.0</td>\n",
       "      <td>1.0</td>\n",
       "      <td>0.0</td>\n",
       "      <td>0.0</td>\n",
       "      <td>0.0</td>\n",
       "      <td>0.0</td>\n",
       "      <td>0.0</td>\n",
       "      <td>0.0</td>\n",
       "      <td>0.0</td>\n",
       "      <td>0.0</td>\n",
       "    </tr>\n",
       "    <tr>\n",
       "      <th>1</th>\n",
       "      <td>29909</td>\n",
       "      <td>0.0</td>\n",
       "      <td>0.0</td>\n",
       "      <td>0.0</td>\n",
       "      <td>0.0</td>\n",
       "      <td>0.0</td>\n",
       "      <td>0.0</td>\n",
       "      <td>0.0</td>\n",
       "      <td>0.0</td>\n",
       "      <td>0.0</td>\n",
       "      <td>...</td>\n",
       "      <td>0.0</td>\n",
       "      <td>0.0</td>\n",
       "      <td>0.0</td>\n",
       "      <td>0.0</td>\n",
       "      <td>1.0</td>\n",
       "      <td>0.0</td>\n",
       "      <td>0.0</td>\n",
       "      <td>0.0</td>\n",
       "      <td>0.0</td>\n",
       "      <td>0.0</td>\n",
       "    </tr>\n",
       "    <tr>\n",
       "      <th>2</th>\n",
       "      <td>39856</td>\n",
       "      <td>0.0</td>\n",
       "      <td>0.0</td>\n",
       "      <td>0.0</td>\n",
       "      <td>0.0</td>\n",
       "      <td>0.0</td>\n",
       "      <td>0.0</td>\n",
       "      <td>0.0</td>\n",
       "      <td>0.0</td>\n",
       "      <td>0.0</td>\n",
       "      <td>...</td>\n",
       "      <td>0.0</td>\n",
       "      <td>1.0</td>\n",
       "      <td>0.0</td>\n",
       "      <td>0.0</td>\n",
       "      <td>0.0</td>\n",
       "      <td>0.0</td>\n",
       "      <td>0.0</td>\n",
       "      <td>0.0</td>\n",
       "      <td>0.0</td>\n",
       "      <td>1.0</td>\n",
       "    </tr>\n",
       "    <tr>\n",
       "      <th>3</th>\n",
       "      <td>109693</td>\n",
       "      <td>0.0</td>\n",
       "      <td>0.0</td>\n",
       "      <td>0.0</td>\n",
       "      <td>0.0</td>\n",
       "      <td>0.0</td>\n",
       "      <td>0.0</td>\n",
       "      <td>0.0</td>\n",
       "      <td>0.0</td>\n",
       "      <td>0.0</td>\n",
       "      <td>...</td>\n",
       "      <td>0.0</td>\n",
       "      <td>0.0</td>\n",
       "      <td>0.0</td>\n",
       "      <td>0.0</td>\n",
       "      <td>0.0</td>\n",
       "      <td>0.0</td>\n",
       "      <td>0.0</td>\n",
       "      <td>0.0</td>\n",
       "      <td>1.0</td>\n",
       "      <td>0.0</td>\n",
       "    </tr>\n",
       "    <tr>\n",
       "      <th>4</th>\n",
       "      <td>289996</td>\n",
       "      <td>0.0</td>\n",
       "      <td>0.0</td>\n",
       "      <td>0.0</td>\n",
       "      <td>0.0</td>\n",
       "      <td>0.0</td>\n",
       "      <td>0.0</td>\n",
       "      <td>0.0</td>\n",
       "      <td>0.0</td>\n",
       "      <td>0.0</td>\n",
       "      <td>...</td>\n",
       "      <td>0.0</td>\n",
       "      <td>0.0</td>\n",
       "      <td>0.0</td>\n",
       "      <td>0.0</td>\n",
       "      <td>0.0</td>\n",
       "      <td>0.0</td>\n",
       "      <td>0.0</td>\n",
       "      <td>0.0</td>\n",
       "      <td>0.0</td>\n",
       "      <td>0.0</td>\n",
       "    </tr>\n",
       "  </tbody>\n",
       "</table>\n",
       "<p>5 rows × 6190 columns</p>\n",
       "</div>"
      ],
      "text/plain": [
       "   cust_id  145519008  145519009  145519010  145519011  145519012  148066012  \\\n",
       "0    29568        0.0        0.0        0.0        0.0        0.0        0.0   \n",
       "1    29909        0.0        0.0        0.0        0.0        0.0        0.0   \n",
       "2    39856        0.0        0.0        0.0        0.0        0.0        0.0   \n",
       "3   109693        0.0        0.0        0.0        0.0        0.0        0.0   \n",
       "4   289996        0.0        0.0        0.0        0.0        0.0        0.0   \n",
       "\n",
       "   152576008  152576009  152576010    ...      999996335  999996618  \\\n",
       "0        0.0        0.0        0.0    ...            0.0        1.0   \n",
       "1        0.0        0.0        0.0    ...            0.0        0.0   \n",
       "2        0.0        0.0        0.0    ...            0.0        1.0   \n",
       "3        0.0        0.0        0.0    ...            0.0        0.0   \n",
       "4        0.0        0.0        0.0    ...            0.0        0.0   \n",
       "\n",
       "   999997260  999997286  999997419  999997533  999998779  999999154  \\\n",
       "0        0.0        0.0        0.0        0.0        0.0        0.0   \n",
       "1        0.0        0.0        1.0        0.0        0.0        0.0   \n",
       "2        0.0        0.0        0.0        0.0        0.0        0.0   \n",
       "3        0.0        0.0        0.0        0.0        0.0        0.0   \n",
       "4        0.0        0.0        0.0        0.0        0.0        0.0   \n",
       "\n",
       "   999999155  999999193  \n",
       "0        0.0        0.0  \n",
       "1        0.0        0.0  \n",
       "2        0.0        1.0  \n",
       "3        1.0        0.0  \n",
       "4        0.0        0.0  \n",
       "\n",
       "[5 rows x 6190 columns]"
      ]
     },
     "execution_count": 9,
     "metadata": {},
     "output_type": "execute_result"
    }
   ],
   "source": [
    "ups.head()"
   ]
  },
  {
   "cell_type": "markdown",
   "metadata": {},
   "source": [
    "Need a function that can take a customer ID as input and return a list of all the items they have purcahsed.\n",
    "\n",
    "Name: get_items\n",
    "Input: Customer ID(int)\n",
    "Output: List of items bought(List)"
   ]
  },
  {
   "cell_type": "code",
   "execution_count": 65,
   "metadata": {},
   "outputs": [],
   "source": [
    "def get_items(customer_id):\n",
    "    temp=ups.loc[ups[\"cust_id\"]==customer_id]\n",
    "    bought=list()\n",
    "    for i,product in zip(range(len(temp.columns)),temp.columns):\n",
    "        if(temp.iloc[0,i]==1):\n",
    "           bought.append(product)\n",
    "    return bought\n",
    "    "
   ]
  },
  {
   "cell_type": "markdown",
   "metadata": {},
   "source": [
    "Make a dictionary of all the customers and their items bought\n",
    "\n",
    "name: get_scoreframe\n",
    "input: list of customer ids\n",
    "output: dict with key=customer id and value= list of products bought"
   ]
  },
  {
   "cell_type": "code",
   "execution_count": 169,
   "metadata": {},
   "outputs": [],
   "source": [
    "def get_scoreframe(custs):\n",
    "    mega=list()\n",
    "    for customer in custs:\n",
    "        mega=get_items(customer)+mega\n",
    "    unique=set(mega)\n",
    "    score=dict()\n",
    "    for product in unique:\n",
    "        score[product]=mega.count(product)\n",
    "    scoreframe=pd.DataFrame.from_dict(score,orient=\"index\")\n",
    "    scoreframe['product']=scoreframe.index\n",
    "    scoreframe.columns=['score','product']\n",
    "    scoreframe[\"score\"]=scoreframe[\"score\"]/len(custs)\n",
    "    scoreframe['product']=pd.to_numeric(scoreframe['product'])    \n",
    "    return scoreframe\n",
    "    "
   ]
  },
  {
   "cell_type": "code",
   "execution_count": 109,
   "metadata": {},
   "outputs": [],
   "source": [
    "increments=pd.read_csv(\"https://s3.amazonaws.com/for-large-files/markting/incremental_sales.csv\")"
   ]
  },
  {
   "cell_type": "code",
   "execution_count": 113,
   "metadata": {},
   "outputs": [],
   "source": [
    "increments=increments.loc[:,['prod_id','incremental']]"
   ]
  },
  {
   "cell_type": "markdown",
   "metadata": {},
   "source": [
    "Make a function to return the top n recommneded products for each customer\n",
    "name: get_recommended_products\n",
    "input: customer's scoreframe\n",
    "output: list of n products "
   ]
  },
  {
   "cell_type": "code",
   "execution_count": 164,
   "metadata": {},
   "outputs": [],
   "source": [
    "def get_recommended_products(customer_frame):\n",
    "    big_score=customer_frame.merge(increments,left_on='product',right_on='prod_id')\n",
    "    big_score['ExpectedValue']=big_score['score']*big_score['incremental']\n",
    "    return big_score.sort_values('ExpectedValue',ascending=False).loc[:,['product','ExpectedValue']].iloc[0:5,:]"
   ]
  },
  {
   "cell_type": "code",
   "execution_count": 172,
   "metadata": {},
   "outputs": [],
   "source": [
    "item={109693:custs, 29909:custs}"
   ]
  },
  {
   "cell_type": "code",
   "execution_count": 174,
   "metadata": {},
   "outputs": [
    {
     "ename": "NameError",
     "evalue": "name 'ite' is not defined",
     "output_type": "error",
     "traceback": [
      "\u001b[0;31m---------------------------------------------------------------------------\u001b[0m",
      "\u001b[0;31mNameError\u001b[0m                                 Traceback (most recent call last)",
      "\u001b[0;32m<ipython-input-174-c2285590f42d>\u001b[0m in \u001b[0;36m<module>\u001b[0;34m()\u001b[0m\n\u001b[0;32m----> 1\u001b[0;31m \u001b[0;32mfor\u001b[0m \u001b[0mcustomer\u001b[0m\u001b[0;34m,\u001b[0m\u001b[0mnsimilar\u001b[0m \u001b[0;32min\u001b[0m \u001b[0mzip\u001b[0m\u001b[0;34m(\u001b[0m\u001b[0mitem\u001b[0m\u001b[0;34m.\u001b[0m\u001b[0mkeys\u001b[0m\u001b[0;34m,\u001b[0m\u001b[0mite\u001b[0m\u001b[0;34m.\u001b[0m\u001b[0mvalues\u001b[0m\u001b[0;34m)\u001b[0m\u001b[0;34m:\u001b[0m\u001b[0;34m\u001b[0m\u001b[0m\n\u001b[0m\u001b[1;32m      2\u001b[0m     \u001b[0mprint\u001b[0m\u001b[0;34m(\u001b[0m\u001b[0mcustomer\u001b[0m\u001b[0;34m)\u001b[0m\u001b[0;34m\u001b[0m\u001b[0m\n\u001b[1;32m      3\u001b[0m \u001b[0;34m\u001b[0m\u001b[0m\n",
      "\u001b[0;31mNameError\u001b[0m: name 'ite' is not defined"
     ]
    }
   ],
   "source": [
    "for customer,nsimilar in zip(item.keys,ite.values):\n",
    "    print(customer)\n",
    "    "
   ]
  }
 ],
 "metadata": {
  "kernelspec": {
   "display_name": "conda_python3",
   "language": "python",
   "name": "conda_python3"
  },
  "language_info": {
   "codemirror_mode": {
    "name": "ipython",
    "version": 3
   },
   "file_extension": ".py",
   "mimetype": "text/x-python",
   "name": "python",
   "nbconvert_exporter": "python",
   "pygments_lexer": "ipython3",
   "version": "3.6.5"
  }
 },
 "nbformat": 4,
 "nbformat_minor": 2
}
